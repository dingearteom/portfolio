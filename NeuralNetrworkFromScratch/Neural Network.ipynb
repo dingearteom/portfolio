{
 "cells": [
  {
   "cell_type": "markdown",
   "metadata": {},
   "source": [
    "# Задание 2.1 - Нейронные сети\n",
    "\n",
    "В этом задании вы реализуете и натренируете настоящую нейроную сеть своими руками!\n",
    "\n",
    "В некотором смысле это будет расширением прошлого задания - нам нужно просто составить несколько линейных классификаторов вместе!\n",
    "\n",
    "<img src=\"https://i.redd.it/n9fgba8b0qr01.png\" alt=\"Stack_more_layers\" width=\"400px\"/>"
   ]
  },
  {
   "cell_type": "code",
   "execution_count": 1,
   "metadata": {},
   "outputs": [],
   "source": [
    "import numpy as np\n",
    "import pandas as pd\n",
    "import matplotlib.pyplot as plt\n",
    "\n",
    "%matplotlib inline\n",
    "\n",
    "%load_ext autoreload\n",
    "%autoreload 2"
   ]
  },
  {
   "cell_type": "code",
   "execution_count": 44,
   "metadata": {},
   "outputs": [],
   "source": [
    "from dataset import load_svhn, random_split_train_val\n",
    "from gradient_check import check_layer_gradient, check_layer_param_gradient, check_model_gradient\n",
    "from layers import FullyConnectedLayer, ReLULayer\n",
    "from model import TwoLayerNet\n",
    "from trainer import Trainer, Dataset\n",
    "from optim import SGD, MomentumSGD\n",
    "from metrics import multiclass_accuracy\n",
    "from sklearn.model_selection import ParameterGrid"
   ]
  },
  {
   "cell_type": "markdown",
   "metadata": {},
   "source": [
    "# Загружаем данные\n",
    "\n",
    "И разделяем их на training и validation."
   ]
  },
  {
   "cell_type": "code",
   "execution_count": 3,
   "metadata": {},
   "outputs": [],
   "source": [
    "def prepare_for_neural_network(train_X, test_X):\n",
    "    train_flat = train_X.reshape(train_X.shape[0], -1).astype(np.float) / 255.0\n",
    "    test_flat = test_X.reshape(test_X.shape[0], -1).astype(np.float) / 255.0\n",
    "    \n",
    "    # Subtract mean\n",
    "    mean_image = np.mean(train_flat, axis = 0)\n",
    "    train_flat -= mean_image\n",
    "    test_flat -= mean_image\n",
    "    \n",
    "    return train_flat, test_flat\n",
    "    \n",
    "train_X, train_y, test_X, test_y = load_svhn(\"data\", max_train=10000, max_test=1000)    \n",
    "train_X, test_X = prepare_for_neural_network(train_X, test_X)\n",
    "# Split train into train and val\n",
    "train_X, train_y, val_X, val_y = random_split_train_val(train_X, train_y, num_val = 1000)"
   ]
  },
  {
   "cell_type": "markdown",
   "metadata": {},
   "source": [
    "# Как всегда, начинаем с кирпичиков\n",
    "\n",
    "Мы будем реализовывать необходимые нам слои по очереди. Каждый слой должен реализовать:\n",
    "- прямой проход (forward pass), который генерирует выход слоя по входу и запоминает необходимые данные\n",
    "- обратный проход (backward pass), который получает градиент по выходу слоя и вычисляет градиент по входу и по параметрам\n",
    "\n",
    "Начнем с ReLU, у которого параметров нет."
   ]
  },
  {
   "cell_type": "code",
   "execution_count": 4,
   "metadata": {
    "scrolled": false
   },
   "outputs": [
    {
     "name": "stdout",
     "output_type": "stream",
     "text": [
      "Gradient check passed!\n"
     ]
    }
   ],
   "source": [
    "# TODO: Implement ReLULayer layer in layers.py\n",
    "# Note: you'll need to copy implementation of the gradient_check function from the previous assignment\n",
    "\n",
    "X = np.array([[1,-2,3],\n",
    "              [-1, 2, 0.1]\n",
    "              ])\n",
    "\n",
    "assert check_layer_gradient(ReLULayer(), X)"
   ]
  },
  {
   "cell_type": "markdown",
   "metadata": {},
   "source": [
    "А теперь реализуем полносвязный слой (fully connected layer), у которого будет два массива параметров: W (weights) и B (bias).\n",
    "\n",
    "Все параметры наши слои будут использовать для параметров специальный класс `Param`, в котором будут храниться значения параметров и градиенты этих параметров, вычисляемые во время обратного прохода.\n",
    "\n",
    "Это даст возможность аккумулировать (суммировать) градиенты из разных частей функции потерь, например, из cross-entropy loss и regularization loss."
   ]
  },
  {
   "cell_type": "code",
   "execution_count": 6,
   "metadata": {},
   "outputs": [
    {
     "name": "stdout",
     "output_type": "stream",
     "text": [
      "Gradient check passed!\n",
      "Gradient check passed!\n",
      "Gradient check passed!\n"
     ]
    }
   ],
   "source": [
    "# TODO: Implement FullyConnected layer forward and backward methods\n",
    "assert check_layer_gradient(FullyConnectedLayer(3, 4), X)\n",
    "# TODO: Implement storing gradients for W and B\n",
    "assert check_layer_param_gradient(FullyConnectedLayer(3, 4), X, 'W')\n",
    "assert check_layer_param_gradient(FullyConnectedLayer(3, 4), X, 'B')"
   ]
  },
  {
   "cell_type": "markdown",
   "metadata": {},
   "source": [
    "## Создаем нейронную сеть\n",
    "\n",
    "Теперь мы реализуем простейшую нейронную сеть с двумя полносвязным слоями и нелинейностью ReLU. Реализуйте функцию `compute_loss_and_gradients`, она должна запустить прямой и обратный проход через оба слоя для вычисления градиентов.\n",
    "\n",
    "Не забудьте реализовать очистку градиентов в начале функции."
   ]
  },
  {
   "cell_type": "code",
   "execution_count": 7,
   "metadata": {},
   "outputs": [
    {
     "name": "stdout",
     "output_type": "stream",
     "text": [
      "Checking gradient for FullyConnectedLayer1_W\n",
      "Gradient check passed!\n",
      "Checking gradient for FullyConnectedLayer1_B\n",
      "Gradient check passed!\n",
      "Checking gradient for FullyConnectedLayer2_W\n",
      "Gradient check passed!\n",
      "Checking gradient for FullyConnectedLayer2_B\n",
      "Gradient check passed!\n"
     ]
    },
    {
     "data": {
      "text/plain": [
       "True"
      ]
     },
     "execution_count": 7,
     "metadata": {},
     "output_type": "execute_result"
    }
   ],
   "source": [
    "# TODO: In model.py, implement compute_loss_and_gradients function\n",
    "model = TwoLayerNet(n_input = train_X.shape[1], n_output = 10, hidden_layer_size = 3, reg = 0)\n",
    "loss = model.compute_loss_and_gradients(train_X[:2], train_y[:2])\n",
    "\n",
    "# TODO Now implement backward pass and aggregate all of the params\n",
    "check_model_gradient(model, train_X[:2], train_y[:2])"
   ]
  },
  {
   "cell_type": "markdown",
   "metadata": {},
   "source": [
    "Теперь добавьте к модели регуляризацию - она должна прибавляться к loss и делать свой вклад в градиенты."
   ]
  },
  {
   "cell_type": "code",
   "execution_count": 8,
   "metadata": {},
   "outputs": [
    {
     "name": "stdout",
     "output_type": "stream",
     "text": [
      "Checking gradient for FullyConnectedLayer1_W\n",
      "Gradient check passed!\n",
      "Checking gradient for FullyConnectedLayer1_B\n",
      "Gradient check passed!\n",
      "Checking gradient for FullyConnectedLayer2_W\n",
      "Gradient check passed!\n",
      "Checking gradient for FullyConnectedLayer2_B\n",
      "Gradient check passed!\n"
     ]
    },
    {
     "data": {
      "text/plain": [
       "True"
      ]
     },
     "execution_count": 8,
     "metadata": {},
     "output_type": "execute_result"
    }
   ],
   "source": [
    "# TODO Now implement l2 regularization in the forward and backward pass\n",
    "model_with_reg = TwoLayerNet(n_input = train_X.shape[1], n_output = 10, hidden_layer_size = 3, reg = 1e1)\n",
    "loss_with_reg = model_with_reg.compute_loss_and_gradients(train_X[:2], train_y[:2])\n",
    "assert loss_with_reg > loss and not np.isclose(loss_with_reg, loss), \\\n",
    "    \"Loss with regularization (%2.4f) should be higher than without it (%2.4f)!\" % (loss, loss_with_reg)\n",
    "\n",
    "check_model_gradient(model_with_reg, train_X[:2], train_y[:2])"
   ]
  },
  {
   "cell_type": "markdown",
   "metadata": {},
   "source": [
    "Также реализуем функцию предсказания (вычисления значения) модели на новых данных.\n",
    "\n",
    "Какое значение точности мы ожидаем увидеть до начала тренировки?"
   ]
  },
  {
   "cell_type": "code",
   "execution_count": 12,
   "metadata": {},
   "outputs": [
    {
     "data": {
      "text/plain": [
       "0.13333333333333333"
      ]
     },
     "execution_count": 12,
     "metadata": {},
     "output_type": "execute_result"
    }
   ],
   "source": [
    "# Finally, implement predict function!\n",
    "\n",
    "# TODO: Implement predict function\n",
    "# What would be the value we expect?\n",
    "multiclass_accuracy(model_with_reg.predict(train_X[:30]), train_y[:30]) "
   ]
  },
  {
   "cell_type": "markdown",
   "metadata": {},
   "source": [
    "# Допишем код для процесса тренировки\n",
    "\n",
    "Если все реализовано корректно, значение функции ошибки должно уменьшаться с каждой эпохой, пусть и медленно. Не беспокойтесь пока про validation accuracy."
   ]
  },
  {
   "cell_type": "code",
   "execution_count": 21,
   "metadata": {},
   "outputs": [
    {
     "name": "stdout",
     "output_type": "stream",
     "text": [
      "Loss: 2.110817, Train accuracy: 0.285556, val accuracy: 0.297000\n",
      "Loss: 2.118701, Train accuracy: 0.373667, val accuracy: 0.372000\n",
      "Loss: 1.836729, Train accuracy: 0.448778, val accuracy: 0.448000\n",
      "Loss: 1.452939, Train accuracy: 0.522222, val accuracy: 0.530000\n",
      "Loss: 1.510363, Train accuracy: 0.570667, val accuracy: 0.573000\n",
      "Loss: 1.537270, Train accuracy: 0.609556, val accuracy: 0.596000\n",
      "Loss: 1.236472, Train accuracy: 0.640556, val accuracy: 0.634000\n",
      "Loss: 1.388122, Train accuracy: 0.666889, val accuracy: 0.651000\n",
      "Loss: 1.534981, Train accuracy: 0.672000, val accuracy: 0.668000\n",
      "Loss: 1.175459, Train accuracy: 0.688667, val accuracy: 0.676000\n",
      "Loss: 0.994926, Train accuracy: 0.695333, val accuracy: 0.675000\n",
      "Loss: 0.803819, Train accuracy: 0.707889, val accuracy: 0.689000\n",
      "Loss: 1.777736, Train accuracy: 0.711556, val accuracy: 0.679000\n",
      "Loss: 0.654220, Train accuracy: 0.716000, val accuracy: 0.688000\n",
      "Loss: 1.036180, Train accuracy: 0.734667, val accuracy: 0.711000\n",
      "Loss: 0.983492, Train accuracy: 0.742333, val accuracy: 0.711000\n",
      "Loss: 0.891279, Train accuracy: 0.744000, val accuracy: 0.716000\n",
      "Loss: 0.724504, Train accuracy: 0.754778, val accuracy: 0.720000\n",
      "Loss: 0.766908, Train accuracy: 0.754444, val accuracy: 0.705000\n",
      "Loss: 1.022779, Train accuracy: 0.758333, val accuracy: 0.713000\n"
     ]
    }
   ],
   "source": [
    "model = TwoLayerNet(n_input = train_X.shape[1], n_output = 10, hidden_layer_size = 100, reg = 0)\n",
    "dataset = Dataset(train_X, train_y, val_X, val_y)\n",
    "trainer = Trainer(model, dataset, SGD(), learning_rate = 1e-2)\n",
    "\n",
    "# TODO Implement missing pieces in Trainer.fit function\n",
    "# You should expect loss to go down every epoch, even if it's slow\n",
    "loss_history, train_history, val_history = trainer.fit()"
   ]
  },
  {
   "cell_type": "code",
   "execution_count": 26,
   "metadata": {},
   "outputs": [
    {
     "data": {
      "text/plain": [
       "<matplotlib.legend.Legend at 0x7f8c5d4902b0>"
      ]
     },
     "execution_count": 26,
     "metadata": {},
     "output_type": "execute_result"
    },
    {
     "data": {
      "image/png": "[encoded data removed]",
      "text/plain": [
       "<Figure size 432x288 with 1 Axes>"
      ]
     },
     "metadata": {
      "needs_background": "light"
     },
     "output_type": "display_data"
    }
   ],
   "source": [
    "plt.plot(train_history, label='train')\n",
    "plt.plot(val_history, label='val')\n",
    "plt.title('Accuracy')\n",
    "plt.legend()"
   ]
  },
  {
   "cell_type": "markdown",
   "metadata": {},
   "source": [
    "# Улучшаем процесс тренировки\n",
    "\n",
    "Мы реализуем несколько ключевых оптимизаций, необходимых для тренировки современных нейросетей."
   ]
  },
  {
   "cell_type": "markdown",
   "metadata": {},
   "source": [
    "## Уменьшение скорости обучения (learning rate decay)\n",
    "\n",
    "Одна из необходимых оптимизаций во время тренировки нейронных сетей - постепенное уменьшение скорости обучения по мере тренировки.\n",
    "\n",
    "Один из стандартных методов - уменьшение скорости обучения (learning rate) каждые N эпох на коэффициент d (часто называемый decay). Значения N и d, как всегда, являются гиперпараметрами и должны подбираться на основе эффективности на проверочных данных (validation data). \n",
    "\n",
    "В нашем случае N будет равным 1."
   ]
  },
  {
   "cell_type": "code",
   "execution_count": 28,
   "metadata": {},
   "outputs": [
    {
     "name": "stdout",
     "output_type": "stream",
     "text": [
      "Loss: 2.411403, Train accuracy: 0.286444, val accuracy: 0.296000\n",
      "Loss: 2.152245, Train accuracy: 0.359444, val accuracy: 0.352000\n",
      "Loss: 2.274372, Train accuracy: 0.441444, val accuracy: 0.426000\n",
      "Loss: 2.030443, Train accuracy: 0.500556, val accuracy: 0.478000\n",
      "Loss: 1.836237, Train accuracy: 0.547333, val accuracy: 0.525000\n",
      "Loss: 1.600846, Train accuracy: 0.606556, val accuracy: 0.566000\n",
      "Loss: 1.860395, Train accuracy: 0.629889, val accuracy: 0.592000\n",
      "Loss: 1.804865, Train accuracy: 0.641778, val accuracy: 0.613000\n",
      "Loss: 1.359208, Train accuracy: 0.657333, val accuracy: 0.634000\n",
      "Loss: 1.776783, Train accuracy: 0.667222, val accuracy: 0.644000\n",
      "Loss: 1.280106, Train accuracy: 0.683778, val accuracy: 0.646000\n",
      "Loss: 1.289726, Train accuracy: 0.689111, val accuracy: 0.649000\n",
      "Loss: 0.908078, Train accuracy: 0.695111, val accuracy: 0.658000\n",
      "Loss: 0.897087, Train accuracy: 0.698000, val accuracy: 0.656000\n",
      "Loss: 1.083855, Train accuracy: 0.713111, val accuracy: 0.674000\n",
      "Loss: 1.170385, Train accuracy: 0.719778, val accuracy: 0.681000\n",
      "Loss: 1.006307, Train accuracy: 0.726111, val accuracy: 0.680000\n",
      "Loss: 1.381977, Train accuracy: 0.728667, val accuracy: 0.697000\n",
      "Loss: 1.035811, Train accuracy: 0.735111, val accuracy: 0.692000\n",
      "Loss: 1.321398, Train accuracy: 0.740222, val accuracy: 0.696000\n"
     ]
    }
   ],
   "source": [
    "# TODO Implement learning rate decay inside Trainer.fit method\n",
    "# Decay should happen once per epoch\n",
    "\n",
    "model = TwoLayerNet(n_input = train_X.shape[1], n_output = 10, hidden_layer_size = 100, reg = 1e-3)\n",
    "dataset = Dataset(train_X, train_y, val_X, val_y)\n",
    "trainer = Trainer(model, dataset, SGD(), learning_rate_decay=0.99)\n",
    "\n",
    "initial_learning_rate = trainer.learning_rate\n",
    "loss_history, train_history, val_history = trainer.fit()\n",
    "\n",
    "assert trainer.learning_rate < initial_learning_rate, \"Learning rate should've been reduced\"\n",
    "assert trainer.learning_rate > 0.5*initial_learning_rate, \"Learning rate shouldn'tve been reduced that much!\""
   ]
  },
  {
   "cell_type": "code",
   "execution_count": 33,
   "metadata": {},
   "outputs": [
    {
     "data": {
      "text/plain": [
       "<matplotlib.legend.Legend at 0x7f8c5d318b20>"
      ]
     },
     "execution_count": 33,
     "metadata": {},
     "output_type": "execute_result"
    },
    {
     "data": {
      "image/png": "[encoded data removed]",
      "text/plain": [
       "<Figure size 432x288 with 1 Axes>"
      ]
     },
     "metadata": {
      "needs_background": "light"
     },
     "output_type": "display_data"
    }
   ],
   "source": [
    "plt.plot(train_history, label='train')\n",
    "plt.plot(val_history, label='val')\n",
    "plt.title('Accuracy')\n",
    "plt.legend()"
   ]
  },
  {
   "cell_type": "markdown",
   "metadata": {},
   "source": [
    "# Накопление импульса (Momentum SGD)\n",
    "\n",
    "Другой большой класс оптимизаций - использование более эффективных методов градиентного спуска. Мы реализуем один из них - накопление импульса (Momentum SGD).\n",
    "\n",
    "Этот метод хранит скорость движения, использует градиент для ее изменения на каждом шаге, и изменяет веса пропорционально значению скорости.\n",
    "(Физическая аналогия: Вместо скорости градиенты теперь будут задавать ускорение, но будет присутствовать сила трения.)\n",
    "\n",
    "```\n",
    "velocity = momentum * velocity - learning_rate * gradient \n",
    "w = w + velocity\n",
    "```\n",
    "\n",
    "`momentum` здесь коэффициент затухания, который тоже является гиперпараметром (к счастью, для него часто есть хорошее значение по умолчанию, типичный диапазон -- 0.8-0.99).\n",
    "\n",
    "Несколько полезных ссылок, где метод разбирается более подробно:  \n",
    "http://cs231n.github.io/neural-networks-3/#sgd  \n",
    "https://distill.pub/2017/momentum/"
   ]
  },
  {
   "cell_type": "code",
   "execution_count": 39,
   "metadata": {},
   "outputs": [
    {
     "name": "stdout",
     "output_type": "stream",
     "text": [
      "Loss: 1.575811, Train accuracy: 0.558111, val accuracy: 0.552000\n",
      "Loss: 1.179122, Train accuracy: 0.656111, val accuracy: 0.620000\n",
      "Loss: 1.161654, Train accuracy: 0.680667, val accuracy: 0.657000\n",
      "Loss: 1.620276, Train accuracy: 0.709778, val accuracy: 0.674000\n",
      "Loss: 1.186745, Train accuracy: 0.729556, val accuracy: 0.698000\n",
      "Loss: 1.378247, Train accuracy: 0.742111, val accuracy: 0.685000\n",
      "Loss: 0.855872, Train accuracy: 0.748444, val accuracy: 0.700000\n",
      "Loss: 0.808384, Train accuracy: 0.768333, val accuracy: 0.699000\n",
      "Loss: 1.038059, Train accuracy: 0.775111, val accuracy: 0.699000\n",
      "Loss: 1.063320, Train accuracy: 0.792111, val accuracy: 0.705000\n",
      "Loss: 1.621918, Train accuracy: 0.789444, val accuracy: 0.714000\n",
      "Loss: 1.282796, Train accuracy: 0.808889, val accuracy: 0.736000\n",
      "Loss: 1.274567, Train accuracy: 0.800222, val accuracy: 0.723000\n",
      "Loss: 1.098964, Train accuracy: 0.783333, val accuracy: 0.710000\n",
      "Loss: 1.599626, Train accuracy: 0.831667, val accuracy: 0.734000\n",
      "Loss: 0.786941, Train accuracy: 0.840333, val accuracy: 0.760000\n",
      "Loss: 1.187765, Train accuracy: 0.811222, val accuracy: 0.729000\n",
      "Loss: 1.158081, Train accuracy: 0.815333, val accuracy: 0.742000\n",
      "Loss: 0.846136, Train accuracy: 0.837556, val accuracy: 0.733000\n",
      "Loss: 0.988759, Train accuracy: 0.828667, val accuracy: 0.730000\n"
     ]
    }
   ],
   "source": [
    "# TODO: Implement MomentumSGD.update function in optim.py\n",
    "\n",
    "model = TwoLayerNet(n_input = train_X.shape[1], n_output = 10, hidden_layer_size = 100, reg = 1e-3)\n",
    "dataset = Dataset(train_X, train_y, val_X, val_y)\n",
    "trainer = Trainer(model, dataset, MomentumSGD(), learning_rate=1e-2, learning_rate_decay=0.995)\n",
    "\n",
    "# You should see even better results than before!\n",
    "loss_history, train_history, val_history = trainer.fit()"
   ]
  },
  {
   "cell_type": "markdown",
   "metadata": {},
   "source": [
    "# Ну что, давайте уже тренировать сеть!"
   ]
  },
  {
   "cell_type": "markdown",
   "metadata": {},
   "source": [
    "## Последний тест - переобучимся (overfit) на маленьком наборе данных\n",
    "\n",
    "Хороший способ проверить, все ли реализовано корректно - переобучить сеть на маленьком наборе данных.  \n",
    "Наша модель обладает достаточной мощностью, чтобы приблизить маленький набор данных идеально, поэтому мы ожидаем, что на нем мы быстро дойдем до 100% точности на тренировочном наборе. \n",
    "\n",
    "Если этого не происходит, то где-то была допущена ошибка!"
   ]
  },
  {
   "cell_type": "code",
   "execution_count": 41,
   "metadata": {},
   "outputs": [
    {
     "name": "stdout",
     "output_type": "stream",
     "text": [
      "Loss: 2.825113, Train accuracy: 0.533333, val accuracy: 0.066667\n",
      "Loss: 2.202643, Train accuracy: 0.666667, val accuracy: 0.133333\n",
      "Loss: 1.401730, Train accuracy: 0.866667, val accuracy: 0.000000\n",
      "Loss: 1.383219, Train accuracy: 1.000000, val accuracy: 0.000000\n",
      "Loss: 0.842613, Train accuracy: 1.000000, val accuracy: 0.000000\n",
      "Loss: 0.867235, Train accuracy: 1.000000, val accuracy: 0.000000\n",
      "Loss: 0.727567, Train accuracy: 1.000000, val accuracy: 0.000000\n",
      "Loss: 0.375536, Train accuracy: 1.000000, val accuracy: 0.000000\n",
      "Loss: 0.418085, Train accuracy: 1.000000, val accuracy: 0.000000\n",
      "Loss: 0.420404, Train accuracy: 1.000000, val accuracy: 0.000000\n",
      "Loss: 0.466187, Train accuracy: 1.000000, val accuracy: 0.000000\n",
      "Loss: 0.382176, Train accuracy: 1.000000, val accuracy: 0.000000\n",
      "Loss: 0.306958, Train accuracy: 1.000000, val accuracy: 0.000000\n",
      "Loss: 0.332971, Train accuracy: 1.000000, val accuracy: 0.000000\n",
      "Loss: 0.292672, Train accuracy: 1.000000, val accuracy: 0.000000\n",
      "Loss: 0.374627, Train accuracy: 1.000000, val accuracy: 0.000000\n",
      "Loss: 0.314526, Train accuracy: 1.000000, val accuracy: 0.000000\n",
      "Loss: 0.373139, Train accuracy: 1.000000, val accuracy: 0.000000\n",
      "Loss: 0.334800, Train accuracy: 1.000000, val accuracy: 0.000000\n",
      "Loss: 0.280518, Train accuracy: 1.000000, val accuracy: 0.000000\n",
      "Loss: 0.267713, Train accuracy: 1.000000, val accuracy: 0.000000\n",
      "Loss: 0.263315, Train accuracy: 1.000000, val accuracy: 0.000000\n",
      "Loss: 0.248695, Train accuracy: 1.000000, val accuracy: 0.000000\n",
      "Loss: 0.295924, Train accuracy: 1.000000, val accuracy: 0.000000\n",
      "Loss: 0.259487, Train accuracy: 1.000000, val accuracy: 0.000000\n",
      "Loss: 0.266799, Train accuracy: 1.000000, val accuracy: 0.000000\n",
      "Loss: 0.260212, Train accuracy: 1.000000, val accuracy: 0.000000\n",
      "Loss: 0.262280, Train accuracy: 1.000000, val accuracy: 0.000000\n",
      "Loss: 0.258944, Train accuracy: 1.000000, val accuracy: 0.000000\n",
      "Loss: 0.262087, Train accuracy: 1.000000, val accuracy: 0.000000\n",
      "Loss: 0.247780, Train accuracy: 1.000000, val accuracy: 0.000000\n",
      "Loss: 0.241574, Train accuracy: 1.000000, val accuracy: 0.000000\n",
      "Loss: 0.270762, Train accuracy: 1.000000, val accuracy: 0.000000\n",
      "Loss: 0.247076, Train accuracy: 1.000000, val accuracy: 0.000000\n",
      "Loss: 0.244416, Train accuracy: 1.000000, val accuracy: 0.000000\n",
      "Loss: 0.241245, Train accuracy: 1.000000, val accuracy: 0.000000\n",
      "Loss: 0.265460, Train accuracy: 1.000000, val accuracy: 0.000000\n",
      "Loss: 0.246855, Train accuracy: 1.000000, val accuracy: 0.000000\n",
      "Loss: 0.241451, Train accuracy: 1.000000, val accuracy: 0.000000\n",
      "Loss: 0.236048, Train accuracy: 1.000000, val accuracy: 0.000000\n",
      "Loss: 0.242121, Train accuracy: 1.000000, val accuracy: 0.000000\n",
      "Loss: 0.249509, Train accuracy: 1.000000, val accuracy: 0.000000\n",
      "Loss: 0.247549, Train accuracy: 1.000000, val accuracy: 0.000000\n",
      "Loss: 0.238289, Train accuracy: 1.000000, val accuracy: 0.000000\n",
      "Loss: 0.239519, Train accuracy: 1.000000, val accuracy: 0.000000\n",
      "Loss: 0.241104, Train accuracy: 1.000000, val accuracy: 0.000000\n",
      "Loss: 0.239521, Train accuracy: 1.000000, val accuracy: 0.000000\n",
      "Loss: 0.242938, Train accuracy: 1.000000, val accuracy: 0.000000\n",
      "Loss: 0.240378, Train accuracy: 1.000000, val accuracy: 0.000000\n",
      "Loss: 0.237341, Train accuracy: 1.000000, val accuracy: 0.000000\n",
      "Loss: 0.239982, Train accuracy: 1.000000, val accuracy: 0.000000\n",
      "Loss: 0.237706, Train accuracy: 1.000000, val accuracy: 0.000000\n",
      "Loss: 0.232755, Train accuracy: 1.000000, val accuracy: 0.000000\n",
      "Loss: 0.232428, Train accuracy: 1.000000, val accuracy: 0.000000\n",
      "Loss: 0.233161, Train accuracy: 1.000000, val accuracy: 0.000000\n",
      "Loss: 0.231552, Train accuracy: 1.000000, val accuracy: 0.000000\n",
      "Loss: 0.231361, Train accuracy: 1.000000, val accuracy: 0.000000\n",
      "Loss: 0.230275, Train accuracy: 1.000000, val accuracy: 0.000000\n",
      "Loss: 0.231028, Train accuracy: 1.000000, val accuracy: 0.000000\n",
      "Loss: 0.235712, Train accuracy: 1.000000, val accuracy: 0.000000\n",
      "Loss: 0.234294, Train accuracy: 1.000000, val accuracy: 0.000000\n",
      "Loss: 0.229380, Train accuracy: 1.000000, val accuracy: 0.000000\n",
      "Loss: 0.232322, Train accuracy: 1.000000, val accuracy: 0.000000\n",
      "Loss: 0.230881, Train accuracy: 1.000000, val accuracy: 0.000000\n",
      "Loss: 0.231511, Train accuracy: 1.000000, val accuracy: 0.000000\n",
      "Loss: 0.230935, Train accuracy: 1.000000, val accuracy: 0.000000\n",
      "Loss: 0.228473, Train accuracy: 1.000000, val accuracy: 0.000000\n",
      "Loss: 0.228384, Train accuracy: 1.000000, val accuracy: 0.000000\n",
      "Loss: 0.227353, Train accuracy: 1.000000, val accuracy: 0.000000\n",
      "Loss: 0.230623, Train accuracy: 1.000000, val accuracy: 0.000000\n",
      "Loss: 0.225164, Train accuracy: 1.000000, val accuracy: 0.000000\n",
      "Loss: 0.230721, Train accuracy: 1.000000, val accuracy: 0.000000\n",
      "Loss: 0.228329, Train accuracy: 1.000000, val accuracy: 0.000000\n",
      "Loss: 0.231326, Train accuracy: 1.000000, val accuracy: 0.000000\n",
      "Loss: 0.227335, Train accuracy: 1.000000, val accuracy: 0.000000\n",
      "Loss: 0.229070, Train accuracy: 1.000000, val accuracy: 0.000000\n",
      "Loss: 0.226910, Train accuracy: 1.000000, val accuracy: 0.000000\n",
      "Loss: 0.228548, Train accuracy: 1.000000, val accuracy: 0.000000\n",
      "Loss: 0.224374, Train accuracy: 1.000000, val accuracy: 0.000000\n",
      "Loss: 0.231550, Train accuracy: 1.000000, val accuracy: 0.000000\n",
      "Loss: 0.223147, Train accuracy: 1.000000, val accuracy: 0.000000\n",
      "Loss: 0.225240, Train accuracy: 1.000000, val accuracy: 0.000000\n",
      "Loss: 0.223207, Train accuracy: 1.000000, val accuracy: 0.000000\n",
      "Loss: 0.223772, Train accuracy: 1.000000, val accuracy: 0.000000\n",
      "Loss: 0.223658, Train accuracy: 1.000000, val accuracy: 0.000000\n",
      "Loss: 0.220495, Train accuracy: 1.000000, val accuracy: 0.000000\n",
      "Loss: 0.225129, Train accuracy: 1.000000, val accuracy: 0.000000\n",
      "Loss: 0.221922, Train accuracy: 1.000000, val accuracy: 0.000000\n",
      "Loss: 0.222376, Train accuracy: 1.000000, val accuracy: 0.000000\n",
      "Loss: 0.218651, Train accuracy: 1.000000, val accuracy: 0.000000\n",
      "Loss: 0.221360, Train accuracy: 1.000000, val accuracy: 0.000000\n",
      "Loss: 0.221937, Train accuracy: 1.000000, val accuracy: 0.000000\n",
      "Loss: 0.221770, Train accuracy: 1.000000, val accuracy: 0.000000\n",
      "Loss: 0.219112, Train accuracy: 1.000000, val accuracy: 0.000000\n",
      "Loss: 0.222280, Train accuracy: 1.000000, val accuracy: 0.000000\n",
      "Loss: 0.220041, Train accuracy: 1.000000, val accuracy: 0.000000\n",
      "Loss: 0.223546, Train accuracy: 1.000000, val accuracy: 0.000000\n",
      "Loss: 0.218748, Train accuracy: 1.000000, val accuracy: 0.000000\n",
      "Loss: 0.217750, Train accuracy: 1.000000, val accuracy: 0.000000\n",
      "Loss: 0.221571, Train accuracy: 1.000000, val accuracy: 0.000000\n",
      "Loss: 0.222091, Train accuracy: 1.000000, val accuracy: 0.000000\n",
      "Loss: 0.220616, Train accuracy: 1.000000, val accuracy: 0.000000\n",
      "Loss: 0.218621, Train accuracy: 1.000000, val accuracy: 0.000000\n",
      "Loss: 0.222562, Train accuracy: 1.000000, val accuracy: 0.000000\n",
      "Loss: 0.217183, Train accuracy: 1.000000, val accuracy: 0.000000\n",
      "Loss: 0.219537, Train accuracy: 1.000000, val accuracy: 0.000000\n",
      "Loss: 0.219152, Train accuracy: 1.000000, val accuracy: 0.000000\n",
      "Loss: 0.218736, Train accuracy: 1.000000, val accuracy: 0.000000\n",
      "Loss: 0.216669, Train accuracy: 1.000000, val accuracy: 0.000000\n",
      "Loss: 0.219260, Train accuracy: 1.000000, val accuracy: 0.000000\n",
      "Loss: 0.215199, Train accuracy: 1.000000, val accuracy: 0.000000\n",
      "Loss: 0.218573, Train accuracy: 1.000000, val accuracy: 0.000000\n",
      "Loss: 0.219602, Train accuracy: 1.000000, val accuracy: 0.000000\n",
      "Loss: 0.218129, Train accuracy: 1.000000, val accuracy: 0.000000\n",
      "Loss: 0.215139, Train accuracy: 1.000000, val accuracy: 0.000000\n",
      "Loss: 0.216324, Train accuracy: 1.000000, val accuracy: 0.000000\n",
      "Loss: 0.215622, Train accuracy: 1.000000, val accuracy: 0.000000\n",
      "Loss: 0.216082, Train accuracy: 1.000000, val accuracy: 0.000000\n",
      "Loss: 0.214995, Train accuracy: 1.000000, val accuracy: 0.000000\n",
      "Loss: 0.214153, Train accuracy: 1.000000, val accuracy: 0.000000\n",
      "Loss: 0.215330, Train accuracy: 1.000000, val accuracy: 0.000000\n",
      "Loss: 0.215266, Train accuracy: 1.000000, val accuracy: 0.000000\n",
      "Loss: 0.213172, Train accuracy: 1.000000, val accuracy: 0.000000\n",
      "Loss: 0.212357, Train accuracy: 1.000000, val accuracy: 0.000000\n",
      "Loss: 0.212564, Train accuracy: 1.000000, val accuracy: 0.000000\n",
      "Loss: 0.212984, Train accuracy: 1.000000, val accuracy: 0.000000\n",
      "Loss: 0.214676, Train accuracy: 1.000000, val accuracy: 0.000000\n",
      "Loss: 0.215732, Train accuracy: 1.000000, val accuracy: 0.000000\n"
     ]
    },
    {
     "name": "stdout",
     "output_type": "stream",
     "text": [
      "Loss: 0.212410, Train accuracy: 1.000000, val accuracy: 0.000000\n",
      "Loss: 0.212231, Train accuracy: 1.000000, val accuracy: 0.000000\n",
      "Loss: 0.212904, Train accuracy: 1.000000, val accuracy: 0.000000\n",
      "Loss: 0.211721, Train accuracy: 1.000000, val accuracy: 0.000000\n",
      "Loss: 0.214998, Train accuracy: 1.000000, val accuracy: 0.000000\n",
      "Loss: 0.212126, Train accuracy: 1.000000, val accuracy: 0.000000\n",
      "Loss: 0.212793, Train accuracy: 1.000000, val accuracy: 0.000000\n",
      "Loss: 0.212926, Train accuracy: 1.000000, val accuracy: 0.000000\n",
      "Loss: 0.210761, Train accuracy: 1.000000, val accuracy: 0.000000\n",
      "Loss: 0.209512, Train accuracy: 1.000000, val accuracy: 0.000000\n",
      "Loss: 0.209808, Train accuracy: 1.000000, val accuracy: 0.000000\n",
      "Loss: 0.212146, Train accuracy: 1.000000, val accuracy: 0.000000\n",
      "Loss: 0.209133, Train accuracy: 1.000000, val accuracy: 0.000000\n",
      "Loss: 0.209911, Train accuracy: 1.000000, val accuracy: 0.000000\n",
      "Loss: 0.208048, Train accuracy: 1.000000, val accuracy: 0.000000\n",
      "Loss: 0.212041, Train accuracy: 1.000000, val accuracy: 0.000000\n",
      "Loss: 0.208711, Train accuracy: 1.000000, val accuracy: 0.000000\n",
      "Loss: 0.207855, Train accuracy: 1.000000, val accuracy: 0.000000\n",
      "Loss: 0.208275, Train accuracy: 1.000000, val accuracy: 0.000000\n",
      "Loss: 0.208990, Train accuracy: 1.000000, val accuracy: 0.000000\n",
      "Loss: 0.208584, Train accuracy: 1.000000, val accuracy: 0.000000\n",
      "Loss: 0.207339, Train accuracy: 1.000000, val accuracy: 0.000000\n"
     ]
    }
   ],
   "source": [
    "data_size = 15\n",
    "model = TwoLayerNet(n_input = train_X.shape[1], n_output = 10, hidden_layer_size = 100, reg = 1e-3)\n",
    "dataset = Dataset(train_X[:data_size], train_y[:data_size], val_X[:data_size], val_y[:data_size])\n",
    "trainer = Trainer(model, dataset, SGD(), learning_rate=1e-1, num_epochs=150, batch_size=5)\n",
    "\n",
    "# You should expect this to reach 1.0 training accuracy \n",
    "loss_history, train_history, val_history = trainer.fit()"
   ]
  },
  {
   "cell_type": "markdown",
   "metadata": {},
   "source": [
    "Теперь найдем гипепараметры, для которых этот процесс сходится быстрее.\n",
    "Если все реализовано корректно, то существуют параметры, при которых процесс сходится в **20** эпох или еще быстрее.\n",
    "Найдите их!"
   ]
  },
  {
   "cell_type": "code",
   "execution_count": 42,
   "metadata": {},
   "outputs": [
    {
     "name": "stdout",
     "output_type": "stream",
     "text": [
      "Loss: 2.285483, Train accuracy: 0.733333, val accuracy: 0.066667\n",
      "Loss: 1.755749, Train accuracy: 0.866667, val accuracy: 0.000000\n",
      "Loss: 1.776655, Train accuracy: 1.000000, val accuracy: 0.000000\n",
      "Loss: 0.823047, Train accuracy: 0.933333, val accuracy: 0.000000\n",
      "Loss: 0.564595, Train accuracy: 1.000000, val accuracy: 0.133333\n",
      "Loss: 0.621806, Train accuracy: 1.000000, val accuracy: 0.000000\n",
      "Loss: 0.590220, Train accuracy: 1.000000, val accuracy: 0.000000\n",
      "Loss: 0.752491, Train accuracy: 1.000000, val accuracy: 0.066667\n",
      "Loss: 0.438313, Train accuracy: 1.000000, val accuracy: 0.000000\n",
      "Loss: 0.361435, Train accuracy: 1.000000, val accuracy: 0.000000\n",
      "Loss: 0.419764, Train accuracy: 1.000000, val accuracy: 0.000000\n",
      "Loss: 0.334053, Train accuracy: 1.000000, val accuracy: 0.000000\n",
      "Loss: 0.368454, Train accuracy: 1.000000, val accuracy: 0.000000\n",
      "Loss: 0.272485, Train accuracy: 1.000000, val accuracy: 0.000000\n",
      "Loss: 0.314906, Train accuracy: 1.000000, val accuracy: 0.000000\n",
      "Loss: 0.265801, Train accuracy: 1.000000, val accuracy: 0.000000\n",
      "Loss: 0.355197, Train accuracy: 1.000000, val accuracy: 0.000000\n",
      "Loss: 0.362458, Train accuracy: 1.000000, val accuracy: 0.000000\n",
      "Loss: 0.285712, Train accuracy: 1.000000, val accuracy: 0.000000\n",
      "Loss: 0.342589, Train accuracy: 1.000000, val accuracy: 0.000000\n"
     ]
    }
   ],
   "source": [
    "# Now, tweak some hyper parameters and make it train to 1.0 accuracy in 20 epochs or less\n",
    "\n",
    "model = TwoLayerNet(n_input = train_X.shape[1], n_output = 10, hidden_layer_size = 100, reg = 1e-3)\n",
    "dataset = Dataset(train_X[:data_size], train_y[:data_size], val_X[:data_size], val_y[:data_size])\n",
    "# TODO: Change any hyperparamers or optimizators to reach training accuracy in 20 epochs\n",
    "trainer = Trainer(model, dataset, SGD(), learning_rate=1e-1, num_epochs=20, batch_size=5)\n",
    "\n",
    "loss_history, train_history, val_history = trainer.fit()"
   ]
  },
  {
   "cell_type": "markdown",
   "metadata": {},
   "source": [
    "# Итак, основное мероприятие!\n",
    "\n",
    "Натренируйте лучшую нейросеть! Можно добавлять и изменять параметры, менять количество нейронов в слоях сети и как угодно экспериментировать. \n",
    "\n",
    "Добейтесь точности лучше **60%** на validation set."
   ]
  },
  {
   "cell_type": "code",
   "execution_count": 56,
   "metadata": {
    "scrolled": true
   },
   "outputs": [
    {
     "name": "stdout",
     "output_type": "stream",
     "text": [
      "Loss: 1.692055, Train accuracy: 0.386222, val accuracy: 0.390000\n",
      "Loss: 1.388352, Train accuracy: 0.563222, val accuracy: 0.560000\n",
      "Loss: 1.360969, Train accuracy: 0.616333, val accuracy: 0.607000\n",
      "Loss: 1.294685, Train accuracy: 0.677444, val accuracy: 0.657000\n",
      "Loss: 1.354936, Train accuracy: 0.704556, val accuracy: 0.678000\n",
      "Loss: 1.053817, Train accuracy: 0.720000, val accuracy: 0.704000\n",
      "Loss: 0.978976, Train accuracy: 0.732889, val accuracy: 0.698000\n",
      "Loss: 1.048241, Train accuracy: 0.748444, val accuracy: 0.726000\n",
      "Loss: 0.735634, Train accuracy: 0.760333, val accuracy: 0.718000\n",
      "Loss: 0.945870, Train accuracy: 0.766889, val accuracy: 0.722000\n",
      "Loss: 1.104724, Train accuracy: 0.771333, val accuracy: 0.735000\n",
      "Loss: 0.506410, Train accuracy: 0.782667, val accuracy: 0.726000\n",
      "Loss: 0.462429, Train accuracy: 0.784333, val accuracy: 0.731000\n",
      "Loss: 0.957111, Train accuracy: 0.788667, val accuracy: 0.730000\n",
      "Loss: 0.978564, Train accuracy: 0.802444, val accuracy: 0.735000\n",
      "Loss: 0.387041, Train accuracy: 0.801889, val accuracy: 0.736000\n",
      "Loss: 0.667478, Train accuracy: 0.805333, val accuracy: 0.753000\n",
      "Loss: 0.512451, Train accuracy: 0.814778, val accuracy: 0.743000\n",
      "Loss: 0.613556, Train accuracy: 0.820111, val accuracy: 0.749000\n",
      "Loss: 0.583420, Train accuracy: 0.828778, val accuracy: 0.750000\n",
      "best validation accuracy achieved: 0.750000\n"
     ]
    }
   ],
   "source": [
    "# Let's train the best one-hidden-layer network we can\n",
    "best_classifier = None\n",
    "best_val_accuracy = None\n",
    "\n",
    "loss_history = []\n",
    "train_history = []\n",
    "val_history = []\n",
    "\n",
    "# TODO find the best hyperparameters to train the network\n",
    "# Don't hesitate to add new values to the arrays above, perform experiments, use any tricks you want\n",
    "# You should expect to get to at least 40% of valudation accuracy\n",
    "# Save loss/train/history of the best classifier to the variables above\n",
    "\n",
    "params_model = ParameterGrid({'hidden_layer_size':[100, 128], 'reg':np.logspace(-5,-1, num=5)})\n",
    "params_trainer = ParameterGrid({'learning_rate':np.logspace(-5, -1, num=5), 'batch_size':[32, 64, 128], \n",
    "                                'learning_rate_decay':[0.9, 0.95, 0.99]})\n",
    "\n",
    "param_model, param_trainer = {'hidden_layer_size':100, 'reg':1e-5}, {'learning_rate':1e-2, 'batch_size':64, \n",
    "                                                                    'learning_rate_decay':0.95}\n",
    "model = TwoLayerNet(n_input = train_X.shape[1], n_output = 10, **param_model)\n",
    "dataset = Dataset(train_X, train_y, val_X, val_y)\n",
    "trainer = Trainer(model, dataset, MomentumSGD(), num_epochs=20, **param_trainer)\n",
    "\n",
    "loss_history, train_history, val_history = trainer.fit()\n",
    "best_val_accuracy = val_history[-1]\n",
    "best_classifier = model\n",
    "print('best validation accuracy achieved: %f' % best_val_accuracy)"
   ]
  },
  {
   "cell_type": "code",
   "execution_count": 57,
   "metadata": {},
   "outputs": [
    {
     "data": {
      "text/plain": [
       "[<matplotlib.lines.Line2D at 0x7f8c5d3ec310>]"
      ]
     },
     "execution_count": 57,
     "metadata": {},
     "output_type": "execute_result"
    },
    {
     "data": {
      "image/png": "[encoded data removed]",
      "text/plain": [
       "<Figure size 1080x504 with 2 Axes>"
      ]
     },
     "metadata": {
      "needs_background": "light"
     },
     "output_type": "display_data"
    }
   ],
   "source": [
    "plt.figure(figsize=(15, 7))\n",
    "plt.subplot(211)\n",
    "plt.title(\"Loss\")\n",
    "plt.plot(loss_history)\n",
    "plt.subplot(212)\n",
    "plt.title(\"Train/validation accuracy\")\n",
    "plt.plot(train_history)\n",
    "plt.plot(val_history)"
   ]
  },
  {
   "cell_type": "markdown",
   "metadata": {},
   "source": [
    "# Как обычно, посмотрим, как наша лучшая модель работает на тестовых данных"
   ]
  },
  {
   "cell_type": "code",
   "execution_count": 58,
   "metadata": {},
   "outputs": [
    {
     "name": "stdout",
     "output_type": "stream",
     "text": [
      "Neural net test set accuracy: 0.712000\n"
     ]
    }
   ],
   "source": [
    "test_pred = best_classifier.predict(test_X)\n",
    "test_accuracy = multiclass_accuracy(test_pred, test_y)\n",
    "print('Neural net test set accuracy: %f' % (test_accuracy, ))"
   ]
  },
  {
   "cell_type": "code",
   "execution_count": null,
   "metadata": {},
   "outputs": [],
   "source": []
  }
 ],
 "metadata": {
  "kernelspec": {
   "display_name": "Python 3",
   "language": "python",
   "name": "python3"
  },
  "language_info": {
   "codemirror_mode": {
    "name": "ipython",
    "version": 3
   },
   "file_extension": ".py",
   "mimetype": "text/x-python",
   "name": "python",
   "nbconvert_exporter": "python",
   "pygments_lexer": "ipython3",
   "version": "3.8.3"
  }
 },
 "nbformat": 4,
 "nbformat_minor": 2
}
