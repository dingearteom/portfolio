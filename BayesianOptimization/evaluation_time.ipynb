{
 "cells": [
  {
   "cell_type": "code",
   "execution_count": 1,
   "metadata": {},
   "outputs": [],
   "source": [
    "import deminf_data"
   ]
  },
  {
   "cell_type": "code",
   "execution_count": 2,
   "metadata": {},
   "outputs": [],
   "source": [
    "import time"
   ]
  },
  {
   "cell_type": "code",
   "execution_count": 3,
   "metadata": {},
   "outputs": [],
   "source": [
    "def eval_time(objective):    \n",
    "    point = []\n",
    "    for l, r in zip(objective.lower_bound, objective.upper_bound):\n",
    "        point.append((l + r) / 2)\n",
    "    start_time = time.time()\n",
    "    y = objective(point)\n",
    "    execution_time = time.time() - start_time\n",
    "    return execution_time"
   ]
  },
  {
   "cell_type": "code",
   "execution_count": 4,
   "metadata": {},
   "outputs": [],
   "source": [
    "objective_names = ['1_Bot_4_Sim', '2_ExpDivNoMig_5_Sim', '2_DivMig_5_Sim', '2_BotDivMig_8_Sim', '3_DivMig_8_Sim', '4_DivNoMig_9_Sim', '4_DivMig_11_Sim', '4_DivMig_18_Sim', '5_DivNoMig_9_Sim']"
   ]
  },
  {
   "cell_type": "code",
   "execution_count": 5,
   "metadata": {},
   "outputs": [
    {
     "name": "stdout",
     "output_type": "stream",
     "text": [
      "1_Bot_4_Sim Evaluation time: 0.008681058883666992\n",
      "2_ExpDivNoMig_5_Sim Evaluation time: 0.039095163345336914\n",
      "2_DivMig_5_Sim Evaluation time: 0.04083395004272461\n",
      "2_BotDivMig_8_Sim Evaluation time: 0.22221016883850098\n",
      "3_DivMig_8_Sim Evaluation time: 1.2390735149383545\n",
      "4_DivNoMig_9_Sim Evaluation time: 10.926994562149048\n",
      "4_DivMig_11_Sim Evaluation time: 7.225677490234375\n",
      "4_DivMig_18_Sim Evaluation time: 7.493533134460449\n",
      "5_DivNoMig_9_Sim Error\n"
     ]
    }
   ],
   "source": [
    "for objective_name in objective_names:\n",
    "    try:\n",
    "        objective = deminf_data.Objective.from_name(objective_name, negate=True, type_of_transform='logarithm')\n",
    "        print(f'{objective_name} Evaluation time: {eval_time(objective)}')\n",
    "    except:\n",
    "        print(f'{objective_name} Error')"
   ]
  }
 ],
 "metadata": {
  "kernelspec": {
   "display_name": "Python 3",
   "language": "python",
   "name": "python3"
  },
  "language_info": {
   "codemirror_mode": {
    "name": "ipython",
    "version": 3
   },
   "file_extension": ".py",
   "mimetype": "text/x-python",
   "name": "python",
   "nbconvert_exporter": "python",
   "pygments_lexer": "ipython3",
   "version": "3.8.3"
  }
 },
 "nbformat": 4,
 "nbformat_minor": 4
}
