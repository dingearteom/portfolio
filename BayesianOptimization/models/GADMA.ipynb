{
 "cells": [
  {
   "cell_type": "code",
   "execution_count": 1,
   "metadata": {},
   "outputs": [],
   "source": [
    "from gadma import *\n",
    "import deminf_data"
   ]
  },
  {
   "cell_type": "code",
   "execution_count": 2,
   "metadata": {},
   "outputs": [],
   "source": [
    "objective1 = deminf_data.Objective.from_name('2_ButAllA_3_McC', negate=True, \n",
    "                                             type_of_transform='logarithm')"
   ]
  },
  {
   "cell_type": "code",
   "execution_count": 3,
   "metadata": {},
   "outputs": [],
   "source": [
    "variables = []\n",
    "\n",
    "for i, (l, r) in enumerate(zip(objective1.lower_bound, objective1.upper_bound)):\n",
    "    variables.append(ContinuousVariable(f'var{i + 1}', [l, r]))"
   ]
  },
  {
   "cell_type": "code",
   "execution_count": 4,
   "metadata": {},
   "outputs": [],
   "source": [
    "opt1 = get_global_optimizer(\"Genetic_algorithm\")\n",
    "opt1.maximize = False"
   ]
  },
  {
   "cell_type": "code",
   "execution_count": 5,
   "metadata": {},
   "outputs": [],
   "source": [
    "point = []"
   ]
  },
  {
   "cell_type": "code",
   "execution_count": 6,
   "metadata": {},
   "outputs": [],
   "source": [
    "for i, (l, r) in enumerate(zip(objective1.lower_bound, objective1.upper_bound)):\n",
    "    point.append((l + r) / 2)"
   ]
  },
  {
   "cell_type": "code",
   "execution_count": 7,
   "metadata": {},
   "outputs": [],
   "source": [
    "import time"
   ]
  },
  {
   "cell_type": "code",
   "execution_count": 8,
   "metadata": {},
   "outputs": [
    {
     "name": "stdout",
     "output_type": "stream",
     "text": [
      "Time:  0.017552614212036133\n"
     ]
    }
   ],
   "source": [
    "start_time = time.time()\n",
    "y = objective1(point)\n",
    "print(\"Time: \", time.time() - start_time)"
   ]
  },
  {
   "cell_type": "code",
   "execution_count": 9,
   "metadata": {},
   "outputs": [],
   "source": [
    "res = opt1.optimize(objective1, variables, verbose=False, maxiter=3)"
   ]
  },
  {
   "cell_type": "code",
   "execution_count": 10,
   "metadata": {},
   "outputs": [
    {
     "data": {
      "text/plain": [
       "  status: 1\n",
       " success: True\n",
       " message: OPTIMIZATION IS NOT STOPPED\n",
       "       x: [ 0.4553026  -2.27553942 -2.19381569]\n",
       "       y: 533.5006713558728\n",
       "  n_eval: 81\n",
       "  n_iter: 3"
      ]
     },
     "execution_count": 10,
     "metadata": {},
     "output_type": "execute_result"
    }
   ],
   "source": [
    "res"
   ]
  },
  {
   "cell_type": "code",
   "execution_count": null,
   "metadata": {},
   "outputs": [],
   "source": []
  },
  {
   "cell_type": "code",
   "execution_count": 1,
   "metadata": {},
   "outputs": [],
   "source": [
    "import sys"
   ]
  },
  {
   "cell_type": "code",
   "execution_count": 2,
   "metadata": {},
   "outputs": [],
   "source": [
    "del sys.path[0]"
   ]
  },
  {
   "cell_type": "code",
   "execution_count": 3,
   "metadata": {},
   "outputs": [],
   "source": [
    "sys.path.insert(0, '/home/artem/Desktop/programming/bayesian_optimization')"
   ]
  },
  {
   "cell_type": "code",
   "execution_count": 4,
   "metadata": {},
   "outputs": [
    {
     "data": {
      "text/plain": [
       "['/home/artem/Desktop/programming/bayesian_optimization',\n",
       " '/home/artem/anaconda3/lib/python38.zip',\n",
       " '/home/artem/anaconda3/lib/python3.8',\n",
       " '/home/artem/anaconda3/lib/python3.8/lib-dynload',\n",
       " '',\n",
       " '/home/artem/anaconda3/lib/python3.8/site-packages',\n",
       " '/home/artem/anaconda3/lib/python3.8/site-packages/moments-1.0.9-py3.8-linux-x86_64.egg',\n",
       " '/home/artem/anaconda3/lib/python3.8/site-packages/GPyOpt-1.2.6-py3.8.egg',\n",
       " '/home/artem/anaconda3/lib/python3.8/site-packages/deminf_data-0.0.0-py3.8.egg',\n",
       " '/home/artem/anaconda3/lib/python3.8/site-packages/gadma-2.0.0rc11.dev18-py3.8.egg',\n",
       " '/home/artem/anaconda3/lib/python3.8/site-packages/IPython/extensions',\n",
       " '/home/artem/.ipython']"
      ]
     },
     "execution_count": 4,
     "metadata": {},
     "output_type": "execute_result"
    }
   ],
   "source": [
    "sys.path"
   ]
  },
  {
   "cell_type": "code",
   "execution_count": 5,
   "metadata": {},
   "outputs": [],
   "source": [
    "%load_ext autoreload\n",
    "%autoreload 2"
   ]
  },
  {
   "cell_type": "code",
   "execution_count": 6,
   "metadata": {},
   "outputs": [],
   "source": [
    "from models.Gadma import Gadma"
   ]
  },
  {
   "cell_type": "code",
   "execution_count": 7,
   "metadata": {},
   "outputs": [
    {
     "name": "stderr",
     "output_type": "stream",
     "text": [
      "\r",
      "Gadma:   0%|          | 0/100 [00:00<?, ?it/s]"
     ]
    }
   ],
   "source": [
    "model = Gadma(100)"
   ]
  },
  {
   "cell_type": "code",
   "execution_count": 8,
   "metadata": {},
   "outputs": [
    {
     "name": "stderr",
     "output_type": "stream",
     "text": [
      "Gadma:  91%|█████████ | 91/100 [00:02<00:00,  9.72it/s]"
     ]
    }
   ],
   "source": [
    "y = model.fit()"
   ]
  },
  {
   "cell_type": "code",
   "execution_count": null,
   "metadata": {},
   "outputs": [],
   "source": []
  }
 ],
 "metadata": {
  "kernelspec": {
   "display_name": "Python 3",
   "language": "python",
   "name": "python3"
  },
  "language_info": {
   "codemirror_mode": {
    "name": "ipython",
    "version": 3
   },
   "file_extension": ".py",
   "mimetype": "text/x-python",
   "name": "python",
   "nbconvert_exporter": "python",
   "pygments_lexer": "ipython3",
   "version": "3.8.3"
  }
 },
 "nbformat": 4,
 "nbformat_minor": 4
}
